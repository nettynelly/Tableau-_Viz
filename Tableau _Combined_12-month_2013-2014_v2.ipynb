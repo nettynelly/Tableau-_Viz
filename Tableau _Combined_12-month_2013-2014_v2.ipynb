{
 "cells": [
  {
   "cell_type": "code",
   "execution_count": 1,
   "metadata": {},
   "outputs": [],
   "source": [
    "\n",
    "import pandas as pd\n",
    "import glob\n",
    "import dateutil\n"
   ]
  },
  {
   "cell_type": "code",
   "execution_count": 2,
   "metadata": {},
   "outputs": [],
   "source": [
    "path =r'/Users/netty/Tableau/data'\n",
    "allFiles = glob.glob(path + \"/*.csv\")\n",
    "bikeframe = pd.DataFrame()\n",
    "list_ = []\n",
    "for file_ in allFiles:\n",
    "    df = pd.read_csv(file_,index_col=None, header=0)\n",
    "    list_.append(df)\n",
    "bikeframe = pd.concat(list_)\n"
   ]
  },
  {
   "cell_type": "code",
   "execution_count": 3,
   "metadata": {},
   "outputs": [
    {
     "data": {
      "text/plain": [
       "(8475215, 15)"
      ]
     },
     "execution_count": 3,
     "metadata": {},
     "output_type": "execute_result"
    }
   ],
   "source": [
    "bikeframe.shape\n",
    "\n"
   ]
  },
  {
   "cell_type": "code",
   "execution_count": 4,
   "metadata": {},
   "outputs": [
    {
     "data": {
      "text/html": [
       "<div>\n",
       "<style scoped>\n",
       "    .dataframe tbody tr th:only-of-type {\n",
       "        vertical-align: middle;\n",
       "    }\n",
       "\n",
       "    .dataframe tbody tr th {\n",
       "        vertical-align: top;\n",
       "    }\n",
       "\n",
       "    .dataframe thead th {\n",
       "        text-align: right;\n",
       "    }\n",
       "</style>\n",
       "<table border=\"1\" class=\"dataframe\">\n",
       "  <thead>\n",
       "    <tr style=\"text-align: right;\">\n",
       "      <th></th>\n",
       "      <th>tripduration</th>\n",
       "      <th>starttime</th>\n",
       "      <th>stoptime</th>\n",
       "      <th>start station id</th>\n",
       "      <th>start station name</th>\n",
       "      <th>start station latitude</th>\n",
       "      <th>start station longitude</th>\n",
       "      <th>end station id</th>\n",
       "      <th>end station name</th>\n",
       "      <th>end station latitude</th>\n",
       "      <th>end station longitude</th>\n",
       "      <th>bikeid</th>\n",
       "      <th>usertype</th>\n",
       "      <th>birth year</th>\n",
       "      <th>gender</th>\n",
       "    </tr>\n",
       "  </thead>\n",
       "  <tbody>\n",
       "    <tr>\n",
       "      <th>0</th>\n",
       "      <td>634</td>\n",
       "      <td>2013-07-01 00:00:00</td>\n",
       "      <td>2013-07-01 00:10:34</td>\n",
       "      <td>164</td>\n",
       "      <td>E 47 St &amp; 2 Ave</td>\n",
       "      <td>40.753231</td>\n",
       "      <td>-73.970325</td>\n",
       "      <td>504</td>\n",
       "      <td>1 Ave &amp; E 15 St</td>\n",
       "      <td>40.732219</td>\n",
       "      <td>-73.981656</td>\n",
       "      <td>16950</td>\n",
       "      <td>Customer</td>\n",
       "      <td>\\N</td>\n",
       "      <td>0</td>\n",
       "    </tr>\n",
       "    <tr>\n",
       "      <th>1</th>\n",
       "      <td>1547</td>\n",
       "      <td>2013-07-01 00:00:02</td>\n",
       "      <td>2013-07-01 00:25:49</td>\n",
       "      <td>388</td>\n",
       "      <td>W 26 St &amp; 10 Ave</td>\n",
       "      <td>40.749718</td>\n",
       "      <td>-74.002950</td>\n",
       "      <td>459</td>\n",
       "      <td>W 20 St &amp; 11 Ave</td>\n",
       "      <td>40.746745</td>\n",
       "      <td>-74.007756</td>\n",
       "      <td>19816</td>\n",
       "      <td>Customer</td>\n",
       "      <td>\\N</td>\n",
       "      <td>0</td>\n",
       "    </tr>\n",
       "    <tr>\n",
       "      <th>2</th>\n",
       "      <td>178</td>\n",
       "      <td>2013-07-01 00:01:04</td>\n",
       "      <td>2013-07-01 00:04:02</td>\n",
       "      <td>293</td>\n",
       "      <td>Lafayette St &amp; E 8 St</td>\n",
       "      <td>40.730287</td>\n",
       "      <td>-73.990765</td>\n",
       "      <td>237</td>\n",
       "      <td>E 11 St &amp; 2 Ave</td>\n",
       "      <td>40.730473</td>\n",
       "      <td>-73.986724</td>\n",
       "      <td>14548</td>\n",
       "      <td>Subscriber</td>\n",
       "      <td>1980</td>\n",
       "      <td>2</td>\n",
       "    </tr>\n",
       "    <tr>\n",
       "      <th>3</th>\n",
       "      <td>1580</td>\n",
       "      <td>2013-07-01 00:01:06</td>\n",
       "      <td>2013-07-01 00:27:26</td>\n",
       "      <td>531</td>\n",
       "      <td>Forsyth St &amp; Broome St</td>\n",
       "      <td>40.718939</td>\n",
       "      <td>-73.992663</td>\n",
       "      <td>499</td>\n",
       "      <td>Broadway &amp; W 60 St</td>\n",
       "      <td>40.769155</td>\n",
       "      <td>-73.981918</td>\n",
       "      <td>16063</td>\n",
       "      <td>Customer</td>\n",
       "      <td>\\N</td>\n",
       "      <td>0</td>\n",
       "    </tr>\n",
       "    <tr>\n",
       "      <th>4</th>\n",
       "      <td>757</td>\n",
       "      <td>2013-07-01 00:01:10</td>\n",
       "      <td>2013-07-01 00:13:47</td>\n",
       "      <td>382</td>\n",
       "      <td>University Pl &amp; E 14 St</td>\n",
       "      <td>40.734927</td>\n",
       "      <td>-73.992005</td>\n",
       "      <td>410</td>\n",
       "      <td>Suffolk St &amp; Stanton St</td>\n",
       "      <td>40.720664</td>\n",
       "      <td>-73.985180</td>\n",
       "      <td>19213</td>\n",
       "      <td>Subscriber</td>\n",
       "      <td>1986</td>\n",
       "      <td>1</td>\n",
       "    </tr>\n",
       "  </tbody>\n",
       "</table>\n",
       "</div>"
      ],
      "text/plain": [
       "   tripduration            starttime             stoptime  start station id  \\\n",
       "0           634  2013-07-01 00:00:00  2013-07-01 00:10:34               164   \n",
       "1          1547  2013-07-01 00:00:02  2013-07-01 00:25:49               388   \n",
       "2           178  2013-07-01 00:01:04  2013-07-01 00:04:02               293   \n",
       "3          1580  2013-07-01 00:01:06  2013-07-01 00:27:26               531   \n",
       "4           757  2013-07-01 00:01:10  2013-07-01 00:13:47               382   \n",
       "\n",
       "        start station name  start station latitude  start station longitude  \\\n",
       "0          E 47 St & 2 Ave               40.753231               -73.970325   \n",
       "1         W 26 St & 10 Ave               40.749718               -74.002950   \n",
       "2    Lafayette St & E 8 St               40.730287               -73.990765   \n",
       "3   Forsyth St & Broome St               40.718939               -73.992663   \n",
       "4  University Pl & E 14 St               40.734927               -73.992005   \n",
       "\n",
       "   end station id         end station name  end station latitude  \\\n",
       "0             504          1 Ave & E 15 St             40.732219   \n",
       "1             459         W 20 St & 11 Ave             40.746745   \n",
       "2             237          E 11 St & 2 Ave             40.730473   \n",
       "3             499       Broadway & W 60 St             40.769155   \n",
       "4             410  Suffolk St & Stanton St             40.720664   \n",
       "\n",
       "   end station longitude  bikeid    usertype birth year  gender  \n",
       "0             -73.981656   16950    Customer         \\N       0  \n",
       "1             -74.007756   19816    Customer         \\N       0  \n",
       "2             -73.986724   14548  Subscriber       1980       2  \n",
       "3             -73.981918   16063    Customer         \\N       0  \n",
       "4             -73.985180   19213  Subscriber       1986       1  "
      ]
     },
     "execution_count": 4,
     "metadata": {},
     "output_type": "execute_result"
    }
   ],
   "source": [
    "bikeframe.head()\n"
   ]
  },
  {
   "cell_type": "code",
   "execution_count": 13,
   "metadata": {},
   "outputs": [
    {
     "data": {
      "text/plain": [
       "tripduration                 int64\n",
       "starttime                   object\n",
       "stoptime                    object\n",
       "start station id             int64\n",
       "start station name          object\n",
       "start station latitude     float64\n",
       "start station longitude    float64\n",
       "end station id               int64\n",
       "end station name            object\n",
       "end station latitude       float64\n",
       "end station longitude      float64\n",
       "bikeid                       int64\n",
       "usertype                    object\n",
       "birth year                  object\n",
       "gender                       int64\n",
       "dtype: object"
      ]
     },
     "execution_count": 13,
     "metadata": {},
     "output_type": "execute_result"
    }
   ],
   "source": [
    "bikeframe.dtypes"
   ]
  },
  {
   "cell_type": "code",
   "execution_count": null,
   "metadata": {},
   "outputs": [],
   "source": [
    "#bikeframe.to_csv('combined_data 2013-2014')"
   ]
  },
  {
   "cell_type": "code",
   "execution_count": 14,
   "metadata": {},
   "outputs": [
    {
     "data": {
      "text/plain": [
       "count             8475215\n",
       "unique                340\n",
       "top       8 Ave & W 31 St\n",
       "freq                85847\n",
       "Name: start station name, dtype: object"
      ]
     },
     "execution_count": 14,
     "metadata": {},
     "output_type": "execute_result"
    }
   ],
   "source": [
    "bikeframe['start station name'].describe()"
   ]
  },
  {
   "cell_type": "markdown",
   "metadata": {},
   "source": [
    "## I did extract  the data that  would be necessary in my data visualizations based on the requirements needed. \n",
    "Findings: THe record shows that that city biking activities is dependent on the months,if summer time it looks likes there more activities in the cities. As to the demographics, there are majority male participants than female, and yet  where a few who are not  unidentified participants. As to category of participants are more customers than the subscribers.\n",
    "        "
   ]
  },
  {
   "cell_type": "code",
   "execution_count": 7,
   "metadata": {},
   "outputs": [
    {
     "name": "stdout",
     "output_type": "stream",
     "text": [
      "        tripduration            starttime             stoptime  \\\n",
      "159329       6250750  2013-07-08 16:51:40  2013-09-19 01:10:53   \n",
      "347019       2006840  2013-11-14 08:47:24  2013-12-07 14:14:49   \n",
      "260274       1990440  2014-01-28 17:38:05  2014-02-20 18:32:08   \n",
      "324597       1907050  2013-12-20 18:36:35  2014-01-11 20:20:45   \n",
      "152334       1259480  2013-10-04 18:03:56  2013-10-19 07:55:21   \n",
      "594124       1113700  2013-11-23 16:40:14  2013-12-06 14:01:52   \n",
      "246005        999965  2013-12-15 15:52:48  2013-12-27 05:38:53   \n",
      "17928         813179  2014-01-04 21:44:53  2014-01-14 07:37:52   \n",
      "60093         766108  2014-02-08 15:52:51  2014-02-17 12:41:19   \n",
      "192363        761793  2013-08-06 21:11:40  2013-08-15 16:48:13   \n",
      "\n",
      "        start station id          start station name  start station latitude  \\\n",
      "159329               151    Cleveland Pl & Spring St               40.721816   \n",
      "347019                72            W 52 St & 11 Ave               40.767272   \n",
      "260274               524             W 43 St & 6 Ave               40.755273   \n",
      "324597               223             W 13 St & 7 Ave               40.737815   \n",
      "152334               527             E 33 St & 1 Ave               40.743156   \n",
      "594124               402          Broadway & E 22 St               40.740343   \n",
      "246005               402          Broadway & E 22 St               40.740343   \n",
      "17928                489            10 Ave & W 28 St               40.750664   \n",
      "60093                353  S Portland Ave & Hanson Pl               40.685396   \n",
      "192363               229              Great Jones St               40.727434   \n",
      "\n",
      "        start station longitude  end station id  \\\n",
      "159329               -73.997203             501   \n",
      "347019               -73.993929             445   \n",
      "260274               -73.983169             152   \n",
      "324597               -73.999947             445   \n",
      "152334               -73.974347             267   \n",
      "594124               -73.989551            2006   \n",
      "246005               -73.989551             276   \n",
      "17928                -74.001768             529   \n",
      "60093                -73.974315             281   \n",
      "192363               -73.993790             342   \n",
      "\n",
      "                         end station name  end station latitude  \\\n",
      "159329                FDR Drive & E 35 St             40.744219   \n",
      "347019                 E 10 St & Avenue A             40.727408   \n",
      "260274              Warren St & Church St             40.714740   \n",
      "324597                 E 10 St & Avenue A             40.727408   \n",
      "152334                 Broadway & W 36 St             40.750977   \n",
      "594124             Central Park S & 6 Ave             40.765909   \n",
      "246005            Duane St & Greenwich St             40.717488   \n",
      "17928                     W 42 St & 8 Ave             40.757570   \n",
      "60093   Grand Army Plaza & Central Park S             40.764397   \n",
      "192363         Columbia St & Rivington St             40.717400   \n",
      "\n",
      "        end station longitude  bikeid    usertype birth year  gender  \n",
      "159329             -73.971212   16808    Customer         \\N       0  \n",
      "347019             -73.981420   19356  Subscriber       1978       2  \n",
      "260274             -74.009106   15132  Subscriber       1980       1  \n",
      "324597             -73.981420   20354  Subscriber       1973       1  \n",
      "152334             -73.987654   19704    Customer         \\N       0  \n",
      "594124             -73.976342   16083    Customer         \\N       0  \n",
      "246005             -74.010455   17171  Subscriber       1980       1  \n",
      "17928              -73.990985   21089  Subscriber       1988       1  \n",
      "60093              -73.973715   15379  Subscriber       1982       2  \n",
      "192363             -73.980166   15941  Subscriber       1979       1  \n"
     ]
    }
   ],
   "source": [
    "top_10_bike_tripduration = bikeframe.nlargest(10,['tripduration'])\n",
    "print(top_10_bike_tripduration)"
   ]
  },
  {
   "cell_type": "code",
   "execution_count": 9,
   "metadata": {},
   "outputs": [],
   "source": [
    "bikeframe.to_csv('top_10_bike_tripduration')"
   ]
  },
  {
   "cell_type": "code",
   "execution_count": null,
   "metadata": {},
   "outputs": [],
   "source": [
    "# Average Price by State (line), Lowest/Highest Price (bar)\n",
    "#bikeframe_stats = bikeframe.groupby('start station name').agg({'bikeframe.head()\n",
    "#' : ['mean', 'min', 'max']})\n",
    "#bikeframe.columns = ['Average', 'Min', 'Max']\n",
    "#state_stats = bikeframe.sort_values(by=\"Average\", ascending = False).round(2)\n",
    "#state_stats"
   ]
  },
  {
   "cell_type": "code",
   "execution_count": 11,
   "metadata": {},
   "outputs": [
    {
     "name": "stdout",
     "output_type": "stream",
     "text": [
      "       tripduration            starttime             stoptime  \\\n",
      "3715             60  2014-06-01 10:25:20  2014-06-01 10:26:20   \n",
      "6324             60  2014-06-01 11:49:54  2014-06-01 11:50:54   \n",
      "8309             60  2014-06-01 12:39:46  2014-06-01 12:40:46   \n",
      "11031            60  2014-06-01 13:43:07  2014-06-01 13:44:07   \n",
      "15816            60  2014-06-01 15:25:51  2014-06-01 15:26:51   \n",
      "17027            60  2014-06-01 15:51:18  2014-06-01 15:52:18   \n",
      "23884            60  2014-06-01 18:19:29  2014-06-01 18:20:29   \n",
      "24446            60  2014-06-01 18:33:10  2014-06-01 18:34:10   \n",
      "24508            60  2014-06-01 18:34:47  2014-06-01 18:35:47   \n",
      "27644            60  2014-06-01 20:00:10  2014-06-01 20:01:10   \n",
      "\n",
      "       start station id        start station name  start station latitude  \\\n",
      "3715                382   University Pl & E 14 St               40.734927   \n",
      "6324                546      E 30 St & Park Ave S               40.744449   \n",
      "8309                279  Peck Slip & Front Street               40.707873   \n",
      "11031               363            West Thames St               40.708347   \n",
      "15816               294       Washington Square E               40.730494   \n",
      "17027               128  MacDougal St & Prince St               40.727103   \n",
      "23884               520           W 52 St & 5 Ave               40.759923   \n",
      "24446               290           2 Ave & E 58 St               40.760203   \n",
      "24508               398  Atlantic Ave & Furman St               40.691652   \n",
      "27644               488           W 39 St & 9 Ave               40.756458   \n",
      "\n",
      "       start station longitude  end station id          end station name  \\\n",
      "3715                -73.992005             382   University Pl & E 14 St   \n",
      "6324                -73.983035             546      E 30 St & Park Ave S   \n",
      "8309                -74.001670             279  Peck Slip & Front Street   \n",
      "11031               -74.017134             363            West Thames St   \n",
      "15816               -73.995721             294       Washington Square E   \n",
      "17027               -74.002971             128  MacDougal St & Prince St   \n",
      "23884               -73.976485             520           W 52 St & 5 Ave   \n",
      "24446               -73.964785             290           2 Ave & E 58 St   \n",
      "24508               -73.999979             398  Atlantic Ave & Furman St   \n",
      "27644               -73.993722             488           W 39 St & 9 Ave   \n",
      "\n",
      "       end station latitude  end station longitude  bikeid    usertype  \\\n",
      "3715              40.734927             -73.992005   15598  Subscriber   \n",
      "6324              40.744449             -73.983035   17773  Subscriber   \n",
      "8309              40.707873             -74.001670   18658  Subscriber   \n",
      "11031             40.708347             -74.017134   20160    Customer   \n",
      "15816             40.730494             -73.995721   14636  Subscriber   \n",
      "17027             40.727103             -74.002971   18615    Customer   \n",
      "23884             40.759923             -73.976485   14911  Subscriber   \n",
      "24446             40.760203             -73.964785   16267  Subscriber   \n",
      "24508             40.691652             -73.999979   19495  Subscriber   \n",
      "27644             40.756458             -73.993722   14915  Subscriber   \n",
      "\n",
      "      birth year  gender  \n",
      "3715        1954       1  \n",
      "6324        1974       1  \n",
      "8309        1980       2  \n",
      "11031         \\N       0  \n",
      "15816       1986       1  \n",
      "17027         \\N       0  \n",
      "23884       1963       1  \n",
      "24446       1972       1  \n",
      "24508       1976       2  \n",
      "27644       1987       2  \n"
     ]
    }
   ],
   "source": [
    "bottom10_bike_trip =df.nsmallest(10,'tripduration')\n",
    "print(bottom10_bike_trip)"
   ]
  },
  {
   "cell_type": "code",
   "execution_count": null,
   "metadata": {
    "scrolled": true
   },
   "outputs": [],
   "source": [
    "bikeframe['end station name'].describe()"
   ]
  },
  {
   "cell_type": "code",
   "execution_count": 55,
   "metadata": {},
   "outputs": [],
   "source": [
    "bottom10_bike_trip.to_csv('buttomlist_bikers')"
   ]
  },
  {
   "cell_type": "code",
   "execution_count": null,
   "metadata": {},
   "outputs": [],
   "source": [
    "undefinedbikers =bikeframe['gender']==0\n",
    "print(undefinedbikers)"
   ]
  },
  {
   "cell_type": "code",
   "execution_count": 44,
   "metadata": {},
   "outputs": [
    {
     "name": "stdout",
     "output_type": "stream",
     "text": [
      "                               min      max       sum\n",
      "start station name                                   \n",
      "1 Ave & E 15 St                 60   370222  33821976\n",
      "1 Ave & E 18 St                 60   590196  24317111\n",
      "1 Ave & E 30 St                 60   109869  23267152\n",
      "1 Ave & E 44 St                 60    70141  18645405\n",
      "10 Ave & W 28 St                60   813179  22597218\n",
      "11 Ave & W 27 St                60    58133  24489217\n",
      "11 Ave & W 41 St                60   145700  26721333\n",
      "11 Ave & W 59 St                63    20579   8374777\n",
      "12 Ave & W 40 St                60   234563  44584707\n",
      "2 Ave & E 31 St                 60   158479  37193846\n",
      "2 Ave & E 58 St                 60    81481  28564991\n",
      "3 Ave & Schermerhorn St         64    66977   3835126\n",
      "5 Ave & E 29 St                 60    94522  25029655\n",
      "6 Ave & Broome St               60   277760  17613259\n",
      "6 Ave & Canal St                60    45714  19808191\n",
      "6 Ave & W 33 St                 60   194481  30694301\n",
      "7 Ave & Farragut St             61   286060   1527368\n",
      "8 Ave & W 31 St                 60   225489  68364390\n",
      "8 Ave & W 33 St                 60   197350  50596353\n",
      "8 Ave & W 52 St                 60    93100  30088252\n",
      "9 Ave & W 14 St                 60   205136  39590849\n",
      "9 Ave & W 16 St                 60   109237  29887801\n",
      "9 Ave & W 18 St                 60   121305  22988646\n",
      "9 Ave & W 22 St                 60    77082  32617155\n",
      "9 Ave & W 45 St                 60    98503  31375924\n",
      "Adelphi St & Myrtle Ave         61   216742   6724622\n",
      "Allen St & E Houston St         60   131010  29254976\n",
      "Allen St & Hester St            60   100715  23049770\n",
      "Allen St & Rivington St         60    61827  30321427\n",
      "Ashland Pl & Hanson Pl          61   117217  13032497\n",
      "...                            ...      ...       ...\n",
      "W 49 St & 8 Ave                 60   228962  30946192\n",
      "W 51 St & 6 Ave                 60   102692  24223979\n",
      "W 52 St & 11 Ave                60  2006840  31537444\n",
      "W 52 St & 5 Ave                 60   693547  18688898\n",
      "W 52 St & 9 Ave                 61   101440  15651226\n",
      "W 53 St & 10 Ave                60    57329  19943428\n",
      "W 54 St & 9 Ave                 60    36222  13913256\n",
      "W 56 St & 10 Ave                60    56663  17867932\n",
      "W 56 St & 6 Ave                 60   116934  33641352\n",
      "W 59 St & 10 Ave                60   444872  32989302\n",
      "W Broadway & Spring St          60   277041  32661897\n",
      "W Houston St & Hudson St        60    86262  43603573\n",
      "Warren St & Church St           60    90942  18585505\n",
      "Washington Ave & Greene Ave     61    24757   3779998\n",
      "Washington Ave & Park Ave       60   110074   7079822\n",
      "Washington Park                 60   337161   5161667\n",
      "Washington Pl & 6 Ave           60   201234  17578006\n",
      "Washington Pl & Broadway        60    46936  20998109\n",
      "Washington Square E             60   580700  27936694\n",
      "Washington St & Gansevoort St   60    66571  31970162\n",
      "Water - Whitehall Plaza         60    69534  15656153\n",
      "Watts St & Greenwich St         60   214733  23535897\n",
      "West St & Chambers St           60   136762  76796520\n",
      "West Thames St                  60   232791  41105766\n",
      "William St & Pine St            60   218890  18247387\n",
      "Willoughby Ave & Hall St        60   252891   7008348\n",
      "Willoughby Ave & Walworth St    60   601177   6743053\n",
      "Willoughby St & Fleet St        62    79697   5422779\n",
      "Wythe Ave & Metropolitan Ave    60   354371  24747558\n",
      "York St & Jay St                60   195861  16274727\n",
      "\n",
      "[340 rows x 3 columns]\n"
     ]
    }
   ],
   "source": [
    "startstation_name = bikeframe.groupby('start station name').tripduration.agg(['min', 'max','sum'])\n",
    "print(startstation_name)\n"
   ]
  },
  {
   "cell_type": "code",
   "execution_count": 45,
   "metadata": {},
   "outputs": [],
   "source": [
    "startstation_name.to_csv('startime_stats')            "
   ]
  },
  {
   "cell_type": "code",
   "execution_count": 23,
   "metadata": {},
   "outputs": [
    {
     "name": "stdout",
     "output_type": "stream",
     "text": [
      "        min      max         sum\n",
      "gender                          \n",
      "0        60  6250750  1538738776\n",
      "1        60  1990440  4296035524\n",
      "2        60  2006840  1523660748\n"
     ]
    }
   ],
   "source": [
    "gender_cat = bikeframe.groupby('gender').tripduration.agg(['min', 'max','sum'])\n",
    "print(gender_cat)\n"
   ]
  },
  {
   "cell_type": "code",
   "execution_count": 34,
   "metadata": {},
   "outputs": [
    {
     "name": "stdout",
     "output_type": "stream",
     "text": [
      "            min      max         sum\n",
      "usertype                            \n",
      "Customer     60  6250750  1538286504\n",
      "Subscriber   60  2006840  5820148544\n"
     ]
    }
   ],
   "source": [
    "user_cat = bikeframe.groupby('usertype').tripduration.agg(['min', 'max','sum'])\n",
    "print(customer_cat)"
   ]
  },
  {
   "cell_type": "code",
   "execution_count": 40,
   "metadata": {},
   "outputs": [
    {
     "name": "stdout",
     "output_type": "stream",
     "text": [
      "gender\n",
      "0     993163\n",
      "1    5756631\n",
      "2    1725421\n",
      "Name: usertype, dtype: int64\n"
     ]
    }
   ],
   "source": [
    "genderUsercat=bikeframe.groupby('gender')['usertype'].count()\n",
    "print(genderUsercat)"
   ]
  },
  {
   "cell_type": "code",
   "execution_count": 52,
   "metadata": {},
   "outputs": [
    {
     "name": "stdout",
     "output_type": "stream",
     "text": [
      "starttime            start station name           \n",
      "2013-07-01 00:00:00  E 47 St & 2 Ave                   634.0\n",
      "2013-07-01 00:00:02  W 26 St & 10 Ave                 1547.0\n",
      "2013-07-01 00:01:04  Lafayette St & E 8 St             178.0\n",
      "2013-07-01 00:01:06  Forsyth St & Broome St           1580.0\n",
      "2013-07-01 00:01:10  University Pl & E 14 St           757.0\n",
      "2013-07-01 00:01:23  E 14 St & Avenue B                861.0\n",
      "2013-07-01 00:01:59  Lafayette St & E 8 St             550.0\n",
      "2013-07-01 00:02:16  E 7 St & Avenue A                 766.0\n",
      "                     Spruce St & Nassau St             288.0\n",
      "2013-07-01 00:02:23  Broadway & W 49 St                773.0\n",
      "                     Hudson St & Reade St              456.0\n",
      "2013-07-01 00:02:24  9 Ave & W 45 St                   623.0\n",
      "                     Mott St & Prince St               632.0\n",
      "2013-07-01 00:02:33  1 Ave & E 15 St                   228.0\n",
      "2013-07-01 00:02:44  9 Ave & W 45 St                   643.0\n",
      "2013-07-01 00:03:10  5 Ave & E 29 St                  1312.0\n",
      "2013-07-01 00:03:14  W 41 St & 8 Ave                   424.0\n",
      "2013-07-01 00:03:30  W 20 St & 8 Ave                  1129.0\n",
      "2013-07-01 00:03:58  W 26 St & 8 Ave                   311.0\n",
      "2013-07-01 00:04:10  W 13 St & 6 Ave                  1275.0\n",
      "2013-07-01 00:05:09  Hicks St & Montague St            318.0\n",
      "2013-07-01 00:05:26  8 Ave & W 31 St                  1603.0\n",
      "2013-07-01 00:05:31  W 59 St & 10 Ave                  440.0\n",
      "2013-07-01 00:05:35  Broadway & W 49 St                801.0\n",
      "2013-07-01 00:05:37  Pershing Square N                 452.0\n",
      "2013-07-01 00:05:41  Cleveland Pl & Spring St          305.0\n",
      "2013-07-01 00:05:47  W 26 St & 8 Ave                   682.0\n",
      "2013-07-01 00:05:49  Allen St & E Houston St          1444.0\n",
      "2013-07-01 00:05:51  E 20 St & FDR Drive               537.0\n",
      "2013-07-01 00:06:27  W 56 St & 6 Ave                  1456.0\n",
      "                                                       ...  \n",
      "2014-06-30 23:55:53  E 10 St & 5 Ave                   376.0\n",
      "2014-06-30 23:56:12  E 39 St & 2 Ave                   317.0\n",
      "2014-06-30 23:56:22  W 14 St & The High Line           454.0\n",
      "2014-06-30 23:56:27  E 10 St & 5 Ave                   684.0\n",
      "2014-06-30 23:56:28  E 10 St & 5 Ave                  1304.0\n",
      "2014-06-30 23:56:34  E 39 St & 2 Ave                   299.0\n",
      "2014-06-30 23:56:40  W 34 St & 11 Ave                 2140.0\n",
      "2014-06-30 23:56:50  W Broadway & Spring St            605.0\n",
      "2014-06-30 23:56:55  W 52 St & 9 Ave                   265.0\n",
      "2014-06-30 23:57:01  12 Ave & W 40 St                  812.0\n",
      "2014-06-30 23:57:08  Christopher St & Greenwich St    1083.0\n",
      "2014-06-30 23:57:26  Bond St & Schermerhorn St         686.0\n",
      "2014-06-30 23:57:36  Stanton St & Chrystie St          211.0\n",
      "2014-06-30 23:57:55  MacDougal St & Washington Sq      527.0\n",
      "2014-06-30 23:57:56  W 45 St & 8 Ave                   713.0\n",
      "2014-06-30 23:58:15  Broadway & E 14 St                788.0\n",
      "2014-06-30 23:58:20  Mercer St & Bleecker St           911.0\n",
      "2014-06-30 23:58:35  Mercer St & Bleecker St           910.0\n",
      "2014-06-30 23:58:37  Washington Pl & Broadway          140.0\n",
      "2014-06-30 23:58:41  2 Ave & E 31 St                   851.0\n",
      "2014-06-30 23:58:59  E 56 St & Madison Ave             698.0\n",
      "                     W Broadway & Spring St            630.0\n",
      "2014-06-30 23:59:03  Norfolk St & Broome St           1518.0\n",
      "2014-06-30 23:59:08  Bank St & Washington St           882.0\n",
      "2014-06-30 23:59:10  9 Ave & W 16 St                   251.0\n",
      "2014-06-30 23:59:18  W 39 St & 9 Ave                  1123.0\n",
      "2014-06-30 23:59:22  St James Pl & Oliver St           608.0\n",
      "2014-06-30 23:59:30  W 42 St & 8 Ave                   336.0\n",
      "2014-06-30 23:59:50  E 39 St & 2 Ave                  1299.0\n",
      "                     Elizabeth St & Hester St          312.0\n",
      "Name: tripduration, Length: 8434644, dtype: float64\n"
     ]
    }
   ],
   "source": [
    "start_time_group=bikeframe.groupby(['starttime', 'start station name'])['tripduration'].mean()\n",
    "print(start_time_group)"
   ]
  },
  {
   "cell_type": "code",
   "execution_count": 53,
   "metadata": {},
   "outputs": [
    {
     "name": "stderr",
     "output_type": "stream",
     "text": [
      "C:\\Users\\netty\\Anaconda3\\envs\\PythonData\\lib\\site-packages\\ipykernel_launcher.py:1: FutureWarning: The signature of `Series.to_csv` was aligned to that of `DataFrame.to_csv`, and argument 'header' will change its default value from False to True: please pass an explicit value to suppress this warning.\n",
      "  \"\"\"Entry point for launching an IPython kernel.\n"
     ]
    }
   ],
   "source": [
    "start_time_group.to_csv('start_time_stats')"
   ]
  },
  {
   "cell_type": "code",
   "execution_count": null,
   "metadata": {},
   "outputs": [],
   "source": []
  }
 ],
 "metadata": {
  "kernelspec": {
   "display_name": "Python [conda env:PythonData] *",
   "language": "python",
   "name": "conda-env-PythonData-py"
  },
  "language_info": {
   "codemirror_mode": {
    "name": "ipython",
    "version": 3
   },
   "file_extension": ".py",
   "mimetype": "text/x-python",
   "name": "python",
   "nbconvert_exporter": "python",
   "pygments_lexer": "ipython3",
   "version": "3.6.8"
  }
 },
 "nbformat": 4,
 "nbformat_minor": 2
}
